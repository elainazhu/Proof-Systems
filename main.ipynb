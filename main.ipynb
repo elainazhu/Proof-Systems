{
 "cells": [
  {
   "cell_type": "code",
   "execution_count": 1,
   "id": "71997c85",
   "metadata": {},
   "outputs": [
    {
     "name": "stdout",
     "output_type": "stream",
     "text": [
      "Collecting z3-solver\n",
      "  Downloading z3_solver-4.14.1.0-py3-none-macosx_13_0_arm64.whl (37.6 MB)\n",
      "\u001b[2K     \u001b[90m━━━━━━━━━━━━━━━━━━━━━━━━━━━━━━━━━━━━━━━━\u001b[0m \u001b[32m37.6/37.6 MB\u001b[0m \u001b[31m30.0 MB/s\u001b[0m eta \u001b[36m0:00:00\u001b[0m00:01\u001b[0m00:01\u001b[0m\n",
      "\u001b[?25hInstalling collected packages: z3-solver\n",
      "Successfully installed z3-solver-4.14.1.0\n",
      "\u001b[33mWARNING: There was an error checking the latest version of pip.\u001b[0m\u001b[33m\n",
      "\u001b[0mNote: you may need to restart the kernel to use updated packages.\n"
     ]
    }
   ],
   "source": [
    "pip install z3-solver"
   ]
  },
  {
   "cell_type": "code",
   "execution_count": 6,
   "id": "73ed447a",
   "metadata": {},
   "outputs": [],
   "source": [
    "from z3 import Solver, Bool, PbEq, sat\n",
    "\n",
    "def solve_sudoku(grid):\n",
    "    \"\"\"\n",
    "    Solve a 9×9 Sudoku given as a list of lists of ints.\n",
    "    Empty cells are 0. Returns a completed grid (new list of lists).\n",
    "    \"\"\"\n",
    "    # Create Bool variables x[i][j][k] meaning \"cell (i,j) contains number k+1\"\n",
    "    x = [[[Bool(f\"x_{i}_{j}_{k}\") for k in range(9)]\n",
    "           for j in range(9)]\n",
    "           for i in range(9)]\n",
    "\n",
    "    s = Solver()\n",
    "\n",
    "    # F1: Each cell has exactly one number\n",
    "    for i in range(9):\n",
    "        for j in range(9):\n",
    "            # sum_k x[i][j][k] == 1\n",
    "            s.add(PbEq([(x[i][j][k], 1) for k in range(9)], 1))\n",
    "\n",
    "    # F2: Each number appears exactly once in each row\n",
    "    for i in range(9):\n",
    "        for k in range(9):\n",
    "            # sum_j x[i][j][k] == 1\n",
    "            s.add(PbEq([(x[i][j][k], 1) for j in range(9)], 1))\n",
    "\n",
    "    # F2 (col version): Each number appears exactly once in each column\n",
    "    for j in range(9):\n",
    "        for k in range(9):\n",
    "            # sum_i x[i][j][k] == 1\n",
    "            s.add(PbEq([(x[i][j][k], 1) for i in range(9)], 1))\n",
    "\n",
    "    # F3: Each number appears exactly once in each 3×3 block\n",
    "    for bi in range(3):\n",
    "        for bj in range(3):\n",
    "            for k in range(9):\n",
    "                block_cells = []\n",
    "                for di in range(3):\n",
    "                    for dj in range(3):\n",
    "                        block_cells.append((x[3*bi+di][3*bj+dj][k], 1))\n",
    "                s.add(PbEq(block_cells, 1))\n",
    "\n",
    "    # F5: Encode the givens from the input grid\n",
    "    for i in range(9):\n",
    "        for j in range(9):\n",
    "            v = grid[i][j]\n",
    "            if v != 0:\n",
    "                # Force x[i][j][v-1] == True\n",
    "                s.add(x[i][j][v-1])\n",
    "\n",
    "    # Solve\n",
    "    if s.check() != sat:\n",
    "        return \"Sudoku is unsatisfiable\"\n",
    "    m = s.model()\n",
    "\n",
    "    # Extract solution\n",
    "    solution = [[0]*9 for _ in range(9)]\n",
    "    for i in range(9):\n",
    "        for j in range(9):\n",
    "            for k in range(9):\n",
    "                if m.evaluate(x[i][j][k]):\n",
    "                    solution[i][j] = k+1\n",
    "                    break\n",
    "    return solution\n",
    "\n",
    "   "
   ]
  },
  {
   "cell_type": "markdown",
   "id": "61b1a953",
   "metadata": {},
   "source": [
    "# unsolvable sudoku\n"
   ]
  },
  {
   "cell_type": "code",
   "execution_count": 7,
   "id": "88ee776f",
   "metadata": {},
   "outputs": [
    {
     "name": "stdout",
     "output_type": "stream",
     "text": [
      "S\n",
      "u\n",
      "d\n",
      "o\n",
      "k\n",
      "u\n",
      " \n",
      "i\n",
      "s\n",
      " \n",
      "u\n",
      "n\n",
      "s\n",
      "a\n",
      "t\n",
      "i\n",
      "s\n",
      "f\n",
      "i\n",
      "a\n",
      "b\n",
      "l\n",
      "e\n"
     ]
    }
   ],
   "source": [
    "puzzle = [\n",
    "    [0,2,5, 1,0,9, 0,0,0],\n",
    "    [8,0,2, 0,3,0, 0,6,0],\n",
    "    [0,3,0, 6,0,0, 7,0,0],\n",
    "\n",
    "    [5,4,0, 0,1,0, 0,9,0],\n",
    "    [0,2,0, 0,7,0, 0,0,8],\n",
    "    [2,0,8, 0,4,0, 0,0,7],\n",
    "\n",
    "    [0,1,0, 9,0,7, 0,6,0],\n",
    "    [0,0,9, 0,0,0, 2,8,4],\n",
    "    [0,0,0, 7,0,6, 0,1,9],\n",
    "]\n",
    "\n",
    "sol = solve_sudoku(puzzle)\n",
    "for row in sol:\n",
    "    print(\" \".join(map(str,row)))\n"
   ]
  },
  {
   "cell_type": "markdown",
   "id": "09dce7f4",
   "metadata": {},
   "source": [
    "# solvable sudoku"
   ]
  },
  {
   "cell_type": "code",
   "execution_count": 5,
   "id": "9cbc8503",
   "metadata": {},
   "outputs": [
    {
     "name": "stdout",
     "output_type": "stream",
     "text": [
      "5 3 4 6 7 8 9 1 2\n",
      "6 7 2 1 9 5 3 4 8\n",
      "1 9 8 3 4 2 5 6 7\n",
      "8 5 9 7 6 1 4 2 3\n",
      "4 2 6 8 5 3 7 9 1\n",
      "7 1 3 9 2 4 8 5 6\n",
      "9 6 1 5 3 7 2 8 4\n",
      "2 8 7 4 1 9 6 3 5\n",
      "3 4 5 2 8 6 1 7 9\n"
     ]
    }
   ],
   "source": [
    "puzzle = [\n",
    "    [5,3,0, 0,7,0, 0,0,0],\n",
    "    [6,0,0, 1,9,5, 0,0,0],\n",
    "    [0,9,8, 0,0,0, 0,6,0],\n",
    "\n",
    "    [8,0,0, 0,6,0, 0,0,3],\n",
    "    [4,0,0, 8,0,3, 0,0,1],\n",
    "    [7,0,0, 0,2,0, 0,0,6],\n",
    "\n",
    "    [0,6,0, 0,0,0, 2,8,0],\n",
    "    [0,0,0, 4,1,9, 0,0,5],\n",
    "    [0,0,0, 0,8,0, 0,7,9],\n",
    "]\n",
    "\n",
    "sol = solve_sudoku(puzzle)\n",
    "for row in sol:\n",
    "    print(\" \".join(map(str,row)))"
   ]
  },
  {
   "cell_type": "code",
   "execution_count": null,
   "id": "ff45a419",
   "metadata": {},
   "outputs": [],
   "source": []
  }
 ],
 "metadata": {
  "kernelspec": {
   "display_name": "Python 3",
   "language": "python",
   "name": "python3"
  },
  "language_info": {
   "codemirror_mode": {
    "name": "ipython",
    "version": 3
   },
   "file_extension": ".py",
   "mimetype": "text/x-python",
   "name": "python",
   "nbconvert_exporter": "python",
   "pygments_lexer": "ipython3",
   "version": "3.10.2"
  }
 },
 "nbformat": 4,
 "nbformat_minor": 5
}
