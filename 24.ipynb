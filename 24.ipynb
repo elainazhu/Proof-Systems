{
 "cells": [
  {
   "cell_type": "code",
   "execution_count": null,
   "id": "47100fa8",
   "metadata": {},
   "outputs": [],
   "source": [
    "from fractions import Fraction\n",
    "from itertools import permutations, product\n",
    "\n",
    "ops = {\n",
    "    '+': lambda a, b: a + b,\n",
    "    '-': lambda a, b: a - b,\n",
    "    '*': lambda a, b: a * b,\n",
    "    '/': lambda a, b: a / b if b != 0 else None,\n",
    "}\n",
    "\n",
    "# The five distinct ways to parenthesize ((a◦b)◦c)◦d with binary ◦’s\n",
    "expr_templates = [\n",
    "    \"(({a}{op1}{b}){op2}{c}){op3}{d}\",\n",
    "    \"({a}{op1}({b}{op2}{c})){op3}{d}\",\n",
    "    \"{a}{op1}(({b}{op2}{c}){op3}{d})\",\n",
    "    \"{a}{op1}({b}{op2}({c}{op3}{d}))\",\n",
    "    \"({a}{op1}{b}){op2}({c}{op3}{d})\",\n",
    "]\n",
    "\n",
    "def solve24(nums):\n",
    "    \"\"\"\n",
    "    Given a list of 4 numbers, return a list of all distinct\n",
    "    expressions using +,-,*,/ and parentheses that evaluate to 24.\n",
    "    \"\"\"\n",
    "    results = set()\n",
    "    # Try every permutation of the input numbers\n",
    "    for a, b, c, d in permutations(nums, 4):\n",
    "        # And every choice of 3 operators (with repetition)\n",
    "        for op1, op2, op3 in product(ops, repeat=3):\n",
    "            for template in expr_templates:\n",
    "                expr = template.format(a='A', b='B', c='C', d='D',\n",
    "                                       op1=op1, op2=op2, op3=op3)\n",
    "                # Replace the placeholders with Fraction literals\n",
    "                expr = (expr\n",
    "                        .replace('A', f'Fraction({a})')\n",
    "                        .replace('B', f'Fraction({b})')\n",
    "                        .replace('C', f'Fraction({c})')\n",
    "                        .replace('D', f'Fraction({d})'))\n",
    "                try:\n",
    "                    val = eval(expr, {'Fraction': Fraction})\n",
    "                except (ZeroDivisionError, TypeError):\n",
    "                    continue\n",
    "                if val == 24:\n",
    "                    # Remove the Fraction(...) syntax for readability\n",
    "                    pretty = expr.replace('Fraction(', '').replace(')', '')\n",
    "                    results.add(pretty)\n",
    "    return sorted(results)"
   ]
  },
  {
   "cell_type": "code",
   "execution_count": 4,
   "id": "bae5acc2",
   "metadata": {},
   "outputs": [
    {
     "name": "stdout",
     "output_type": "stream",
     "text": [
      "Found 1 solution(s):\n",
      "   8/(3-(8/3\n"
     ]
    }
   ],
   "source": [
    "\n",
    "puzzle = [3, 3, 8, 8]\n",
    "sols = solve24(puzzle)\n",
    "if not sols:\n",
    "    print(\"No solution.\")\n",
    "else:\n",
    "    print(f\"Found {len(sols)} solution(s):\")\n",
    "    for s in sols:\n",
    "        print(\"  \", s)"
   ]
  }
 ],
 "metadata": {
  "kernelspec": {
   "display_name": "Python 3",
   "language": "python",
   "name": "python3"
  },
  "language_info": {
   "codemirror_mode": {
    "name": "ipython",
    "version": 3
   },
   "file_extension": ".py",
   "mimetype": "text/x-python",
   "name": "python",
   "nbconvert_exporter": "python",
   "pygments_lexer": "ipython3",
   "version": "3.10.2"
  }
 },
 "nbformat": 4,
 "nbformat_minor": 5
}
